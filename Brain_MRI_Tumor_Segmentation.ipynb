{
 "cells": [
  {
   "cell_type": "code",
   "execution_count": 12,
   "metadata": {
    "collapsed": true
   },
   "outputs": [],
   "source": [
    "import os\n",
    "import pandas as pd\n",
    "import matplotlib.pyplot as plt\n",
    "import tensorflow as tf\n",
    "from keras_preprocessing.image import ImageDataGenerator\n",
    "from sklearn.model_selection import train_test_split\n",
    "import cv2\n",
    "import numpy as np\n",
    "from tqdm import tqdm\n",
    "import warnings\n",
    "from keras.layers import *\n",
    "from keras import Model"
   ]
  },
  {
   "cell_type": "code",
   "execution_count": 2,
   "outputs": [],
   "source": [
    "warnings.filterwarnings('ignore')\n",
    "plt.rcParams[\"figure.dpi\"] = 120\n",
    "image_dimension = (224, 224)\n",
    "image_input_size = (224, 224, 1)\n",
    "epochs=100\n",
    "batch_size = 32\n",
    "epoch_index = [i for i in range(1, epochs+1)]"
   ],
   "metadata": {
    "collapsed": false
   }
  },
  {
   "cell_type": "markdown",
   "source": [
    "#### Load data"
   ],
   "metadata": {
    "collapsed": false
   }
  },
  {
   "cell_type": "code",
   "execution_count": 7,
   "outputs": [],
   "source": [
    "images = np.load(os.path.join(\"Brain_MRI_data1\", \"images.npy\"), allow_pickle=True)\n",
    "masks = np.load(os.path.join(\"Brain_MRI_data1\", \"masks.npy\"), allow_pickle=True)"
   ],
   "metadata": {
    "collapsed": false
   }
  },
  {
   "cell_type": "markdown",
   "source": [
    "#### Change all image to grey"
   ],
   "metadata": {
    "collapsed": false
   }
  },
  {
   "cell_type": "code",
   "execution_count": 8,
   "outputs": [
    {
     "name": "stderr",
     "output_type": "stream",
     "text": [
      "100%|██████████| 3064/3064 [00:20<00:00, 148.87it/s]\n",
      "100%|██████████| 3064/3064 [00:16<00:00, 184.35it/s]\n"
     ]
    }
   ],
   "source": [
    "image_index = 0\n",
    "for image in tqdm(images):\n",
    "    plt.imsave(os.path.join(\"Brain_MRI_Segment_image\", \"image_{}.jpg\".format(image_index)), image, cmap='gray')\n",
    "    image_index += 1\n",
    "\n",
    "mask_index = 0\n",
    "for mask in tqdm(masks):\n",
    "    plt.imsave(os.path.join(\"Brain_MRI_Segment_mask\", \"mask_{}.jpg\".format(mask_index)), mask, cmap='gray')\n",
    "    mask_index += 1"
   ],
   "metadata": {
    "collapsed": false
   }
  },
  {
   "cell_type": "code",
   "execution_count": 14,
   "outputs": [
    {
     "name": "stderr",
     "output_type": "stream",
     "text": [
      "100%|██████████| 3064/3064 [00:01<00:00, 1932.06it/s]\n",
      "100%|██████████| 3064/3064 [00:00<00:00, 3860.11it/s]\n"
     ]
    }
   ],
   "source": [
    "image_dir_name = \"Brain_MRI_Segment_image\"\n",
    "mask_dir_name = \"Brain_MRI_Segment_mask\"\n",
    "image_list = list()\n",
    "mask_list = list()\n",
    "\n",
    "images_dir = sorted(os.listdir(image_dir_name))\n",
    "for image in tqdm(images_dir):\n",
    "    current_image = cv2.imread(os.path.join(image_dir_name, image), cv2.IMREAD_GRAYSCALE)\n",
    "    current_image = cv2.resize(current_image, image_dimension)\n",
    "    current_image_180 = cv2.rotate(current_image, cv2.ROTATE_180)\n",
    "    current_image_r90 = cv2.rotate(current_image, cv2.ROTATE_90_CLOCKWISE)\n",
    "    current_image_l90 = cv2.rotate(current_image, cv2.ROTATE_90_COUNTERCLOCKWISE)\n",
    "    image_list.append(current_image)\n",
    "    image_list.append(current_image_180)\n",
    "    image_list.append(current_image_r90)\n",
    "    image_list.append(current_image_l90)\n",
    "\n",
    "\n",
    "\n",
    "masks_dir = sorted(os.listdir(mask_dir_name))\n",
    "for mask in tqdm(masks_dir):\n",
    "    current_mask = cv2.imread(os.path.join(mask_dir_name, mask), cv2.IMREAD_GRAYSCALE)\n",
    "    current_mask = cv2.resize(current_mask, image_dimension)\n",
    "    current_mask_180 = cv2.rotate(current_mask, cv2.ROTATE_180)\n",
    "    current_mask_r90 = cv2.rotate(current_mask, cv2.ROTATE_90_CLOCKWISE)\n",
    "    current_mask_l90 = cv2.rotate(current_mask, cv2.ROTATE_90_COUNTERCLOCKWISE)\n",
    "    mask_list.append(current_mask)\n",
    "    mask_list.append(current_mask_180)\n",
    "    mask_list.append(current_mask_r90)\n",
    "    mask_list.append(current_mask_l90)\n",
    "\n",
    "\n",
    "features = np.array(image_list)/255.0\n",
    "masks = np.array(mask_list)/255.0\n",
    "features = features.reshape((features.shape[0], features.shape[1], features.shape[2], 1))\n",
    "masks = masks.reshape((masks.shape[0], masks.shape[1], masks.shape[2], 1))"
   ],
   "metadata": {
    "collapsed": false
   }
  },
  {
   "cell_type": "code",
   "execution_count": 15,
   "outputs": [
    {
     "name": "stdout",
     "output_type": "stream",
     "text": [
      "image dimension: (12256, 224, 224, 1), label dimension: (12256, 224, 224, 1)\n"
     ]
    }
   ],
   "source": [
    "print(\"image dimension: {}, label dimension: {}\".format(features.shape, masks.shape))"
   ],
   "metadata": {
    "collapsed": false
   }
  },
  {
   "cell_type": "markdown",
   "source": [
    "#### Train, Test, Validation Split"
   ],
   "metadata": {
    "collapsed": false
   }
  },
  {
   "cell_type": "code",
   "execution_count": 16,
   "outputs": [],
   "source": [
    "X_train, X_test, y_train, y_test = train_test_split(features, masks, test_size=0.25, random_state=42, shuffle=True)\n",
    "train_generator = ImageDataGenerator(validation_split=0.25)\n",
    "test_generator = ImageDataGenerator()\n",
    "\n",
    "train_df = train_generator.flow(X_train, y_train, batch_size=batch_size, subset=\"training\")\n",
    "validation_df = train_generator.flow(X_train, y_train, batch_size=batch_size, subset=\"validation\", seed=42)\n",
    "test_df = train_generator.flow(X_test, y_test, batch_size=batch_size)"
   ],
   "metadata": {
    "collapsed": false
   }
  },
  {
   "cell_type": "markdown",
   "source": [
    "#### U-Net Model Definition"
   ],
   "metadata": {
    "collapsed": false
   }
  },
  {
   "cell_type": "code",
   "execution_count": 17,
   "outputs": [],
   "source": [
    "def conv_block(inputs, filters, kernel_size=3, dropout_rate=0.2):\n",
    "    x = tf.keras.layers.Conv2D(filters, kernel_size, padding='same', activation='relu')(inputs)\n",
    "    x = tf.keras.layers.BatchNormalization()(x)\n",
    "    x = tf.keras.layers.Dropout(dropout_rate)(x)\n",
    "    x = tf.keras.layers.Conv2D(filters, kernel_size, padding='same', activation='relu')(x)\n",
    "    x = tf.keras.layers.BatchNormalization()(x)\n",
    "    return x\n",
    "\n",
    "def unet(input_shape, num_classes):\n",
    "    inputs = tf.keras.layers.Input(shape=input_shape)\n",
    "\n",
    "    # Encoder path\n",
    "    conv1 = conv_block(inputs, 32)\n",
    "    pool1 = tf.keras.layers.MaxPooling2D(pool_size=(2, 2))(conv1)\n",
    "    conv2 = conv_block(pool1, 64)\n",
    "    pool2 = tf.keras.layers.MaxPooling2D(pool_size=(2, 2))(conv2)\n",
    "    conv3 = conv_block(pool2, 128)\n",
    "    pool3 = tf.keras.layers.MaxPooling2D(pool_size=(2, 2))(conv3)\n",
    "    conv4 = conv_block(pool3, 256)\n",
    "    pool4 = tf.keras.layers.MaxPooling2D(pool_size=(2, 2))(conv4)\n",
    "    conv5 = conv_block(pool4, 512)\n",
    "\n",
    "    # Decoder path\n",
    "    upconv6 = tf.keras.layers.Conv2DTranspose(256, kernel_size=2, strides=(2, 2), padding='same')(conv5)\n",
    "    merge6 = tf.keras.layers.concatenate([upconv6, conv4], axis=3)\n",
    "    conv6 = conv_block(merge6, 256)\n",
    "    upconv7 = tf.keras.layers.Conv2DTranspose(128, kernel_size=2, strides=(2, 2), padding='same')(conv6)\n",
    "    merge7 = tf.keras.layers.concatenate([upconv7, conv3], axis=3)\n",
    "    conv7 = conv_block(merge7, 128)\n",
    "    upconv8 = tf.keras.layers.Conv2DTranspose(64, kernel_size=2, strides=(2, 2), padding='same')(conv7)\n",
    "    merge8 = tf.keras.layers.concatenate([upconv8, conv2], axis=3)\n",
    "    conv8 = conv_block(merge8, 64)\n",
    "    upconv9 = tf.keras.layers.Conv2DTranspose(32, kernel_size=2, strides=(2, 2), padding='same')(conv8)\n",
    "    merge9 = tf.keras.layers.concatenate([upconv9, conv1], axis=3)\n",
    "    conv9 = conv_block(merge9, 32)\n",
    "\n",
    "    # Output layer\n",
    "    outputs = tf.keras.layers.Conv2D(num_classes, 1, activation='sigmoid')(conv9)\n",
    "\n",
    "    model = tf.keras.models.Model(inputs, outputs)\n",
    "    return model"
   ],
   "metadata": {
    "collapsed": false
   }
  },
  {
   "cell_type": "code",
   "execution_count": 18,
   "outputs": [
    {
     "name": "stdout",
     "output_type": "stream",
     "text": [
      "Model: \"model_1\"\n",
      "__________________________________________________________________________________________________\n",
      " Layer (type)                   Output Shape         Param #     Connected to                     \n",
      "==================================================================================================\n",
      " input_3 (InputLayer)           [(None, 224, 224, 1  0           []                               \n",
      "                                )]                                                                \n",
      "                                                                                                  \n",
      " conv2d_20 (Conv2D)             (None, 224, 224, 32  320         ['input_3[0][0]']                \n",
      "                                )                                                                 \n",
      "                                                                                                  \n",
      " batch_normalization_18 (BatchN  (None, 224, 224, 32  128        ['conv2d_20[0][0]']              \n",
      " ormalization)                  )                                                                 \n",
      "                                                                                                  \n",
      " dropout_9 (Dropout)            (None, 224, 224, 32  0           ['batch_normalization_18[0][0]'] \n",
      "                                )                                                                 \n",
      "                                                                                                  \n",
      " conv2d_21 (Conv2D)             (None, 224, 224, 32  9248        ['dropout_9[0][0]']              \n",
      "                                )                                                                 \n",
      "                                                                                                  \n",
      " batch_normalization_19 (BatchN  (None, 224, 224, 32  128        ['conv2d_21[0][0]']              \n",
      " ormalization)                  )                                                                 \n",
      "                                                                                                  \n",
      " max_pooling2d_4 (MaxPooling2D)  (None, 112, 112, 32  0          ['batch_normalization_19[0][0]'] \n",
      "                                )                                                                 \n",
      "                                                                                                  \n",
      " conv2d_22 (Conv2D)             (None, 112, 112, 64  18496       ['max_pooling2d_4[0][0]']        \n",
      "                                )                                                                 \n",
      "                                                                                                  \n",
      " batch_normalization_20 (BatchN  (None, 112, 112, 64  256        ['conv2d_22[0][0]']              \n",
      " ormalization)                  )                                                                 \n",
      "                                                                                                  \n",
      " dropout_10 (Dropout)           (None, 112, 112, 64  0           ['batch_normalization_20[0][0]'] \n",
      "                                )                                                                 \n",
      "                                                                                                  \n",
      " conv2d_23 (Conv2D)             (None, 112, 112, 64  36928       ['dropout_10[0][0]']             \n",
      "                                )                                                                 \n",
      "                                                                                                  \n",
      " batch_normalization_21 (BatchN  (None, 112, 112, 64  256        ['conv2d_23[0][0]']              \n",
      " ormalization)                  )                                                                 \n",
      "                                                                                                  \n",
      " max_pooling2d_5 (MaxPooling2D)  (None, 56, 56, 64)  0           ['batch_normalization_21[0][0]'] \n",
      "                                                                                                  \n",
      " conv2d_24 (Conv2D)             (None, 56, 56, 128)  73856       ['max_pooling2d_5[0][0]']        \n",
      "                                                                                                  \n",
      " batch_normalization_22 (BatchN  (None, 56, 56, 128)  512        ['conv2d_24[0][0]']              \n",
      " ormalization)                                                                                    \n",
      "                                                                                                  \n",
      " dropout_11 (Dropout)           (None, 56, 56, 128)  0           ['batch_normalization_22[0][0]'] \n",
      "                                                                                                  \n",
      " conv2d_25 (Conv2D)             (None, 56, 56, 128)  147584      ['dropout_11[0][0]']             \n",
      "                                                                                                  \n",
      " batch_normalization_23 (BatchN  (None, 56, 56, 128)  512        ['conv2d_25[0][0]']              \n",
      " ormalization)                                                                                    \n",
      "                                                                                                  \n",
      " max_pooling2d_6 (MaxPooling2D)  (None, 28, 28, 128)  0          ['batch_normalization_23[0][0]'] \n",
      "                                                                                                  \n",
      " conv2d_26 (Conv2D)             (None, 28, 28, 256)  295168      ['max_pooling2d_6[0][0]']        \n",
      "                                                                                                  \n",
      " batch_normalization_24 (BatchN  (None, 28, 28, 256)  1024       ['conv2d_26[0][0]']              \n",
      " ormalization)                                                                                    \n",
      "                                                                                                  \n",
      " dropout_12 (Dropout)           (None, 28, 28, 256)  0           ['batch_normalization_24[0][0]'] \n",
      "                                                                                                  \n",
      " conv2d_27 (Conv2D)             (None, 28, 28, 256)  590080      ['dropout_12[0][0]']             \n",
      "                                                                                                  \n",
      " batch_normalization_25 (BatchN  (None, 28, 28, 256)  1024       ['conv2d_27[0][0]']              \n",
      " ormalization)                                                                                    \n",
      "                                                                                                  \n",
      " max_pooling2d_7 (MaxPooling2D)  (None, 14, 14, 256)  0          ['batch_normalization_25[0][0]'] \n",
      "                                                                                                  \n",
      " conv2d_28 (Conv2D)             (None, 14, 14, 512)  1180160     ['max_pooling2d_7[0][0]']        \n",
      "                                                                                                  \n",
      " batch_normalization_26 (BatchN  (None, 14, 14, 512)  2048       ['conv2d_28[0][0]']              \n",
      " ormalization)                                                                                    \n",
      "                                                                                                  \n",
      " dropout_13 (Dropout)           (None, 14, 14, 512)  0           ['batch_normalization_26[0][0]'] \n",
      "                                                                                                  \n",
      " conv2d_29 (Conv2D)             (None, 14, 14, 512)  2359808     ['dropout_13[0][0]']             \n",
      "                                                                                                  \n",
      " batch_normalization_27 (BatchN  (None, 14, 14, 512)  2048       ['conv2d_29[0][0]']              \n",
      " ormalization)                                                                                    \n",
      "                                                                                                  \n",
      " conv2d_transpose_4 (Conv2DTran  (None, 28, 28, 256)  524544     ['batch_normalization_27[0][0]'] \n",
      " spose)                                                                                           \n",
      "                                                                                                  \n",
      " concatenate_4 (Concatenate)    (None, 28, 28, 512)  0           ['conv2d_transpose_4[0][0]',     \n",
      "                                                                  'batch_normalization_25[0][0]'] \n",
      "                                                                                                  \n",
      " conv2d_30 (Conv2D)             (None, 28, 28, 256)  1179904     ['concatenate_4[0][0]']          \n",
      "                                                                                                  \n",
      " batch_normalization_28 (BatchN  (None, 28, 28, 256)  1024       ['conv2d_30[0][0]']              \n",
      " ormalization)                                                                                    \n",
      "                                                                                                  \n",
      " dropout_14 (Dropout)           (None, 28, 28, 256)  0           ['batch_normalization_28[0][0]'] \n",
      "                                                                                                  \n",
      " conv2d_31 (Conv2D)             (None, 28, 28, 256)  590080      ['dropout_14[0][0]']             \n",
      "                                                                                                  \n",
      " batch_normalization_29 (BatchN  (None, 28, 28, 256)  1024       ['conv2d_31[0][0]']              \n",
      " ormalization)                                                                                    \n",
      "                                                                                                  \n",
      " conv2d_transpose_5 (Conv2DTran  (None, 56, 56, 128)  131200     ['batch_normalization_29[0][0]'] \n",
      " spose)                                                                                           \n",
      "                                                                                                  \n",
      " concatenate_5 (Concatenate)    (None, 56, 56, 256)  0           ['conv2d_transpose_5[0][0]',     \n",
      "                                                                  'batch_normalization_23[0][0]'] \n",
      "                                                                                                  \n",
      " conv2d_32 (Conv2D)             (None, 56, 56, 128)  295040      ['concatenate_5[0][0]']          \n",
      "                                                                                                  \n",
      " batch_normalization_30 (BatchN  (None, 56, 56, 128)  512        ['conv2d_32[0][0]']              \n",
      " ormalization)                                                                                    \n",
      "                                                                                                  \n",
      " dropout_15 (Dropout)           (None, 56, 56, 128)  0           ['batch_normalization_30[0][0]'] \n",
      "                                                                                                  \n",
      " conv2d_33 (Conv2D)             (None, 56, 56, 128)  147584      ['dropout_15[0][0]']             \n",
      "                                                                                                  \n",
      " batch_normalization_31 (BatchN  (None, 56, 56, 128)  512        ['conv2d_33[0][0]']              \n",
      " ormalization)                                                                                    \n",
      "                                                                                                  \n",
      " conv2d_transpose_6 (Conv2DTran  (None, 112, 112, 64  32832      ['batch_normalization_31[0][0]'] \n",
      " spose)                         )                                                                 \n",
      "                                                                                                  \n",
      " concatenate_6 (Concatenate)    (None, 112, 112, 12  0           ['conv2d_transpose_6[0][0]',     \n",
      "                                8)                                'batch_normalization_21[0][0]'] \n",
      "                                                                                                  \n",
      " conv2d_34 (Conv2D)             (None, 112, 112, 64  73792       ['concatenate_6[0][0]']          \n",
      "                                )                                                                 \n",
      "                                                                                                  \n",
      " batch_normalization_32 (BatchN  (None, 112, 112, 64  256        ['conv2d_34[0][0]']              \n",
      " ormalization)                  )                                                                 \n",
      "                                                                                                  \n",
      " dropout_16 (Dropout)           (None, 112, 112, 64  0           ['batch_normalization_32[0][0]'] \n",
      "                                )                                                                 \n",
      "                                                                                                  \n",
      " conv2d_35 (Conv2D)             (None, 112, 112, 64  36928       ['dropout_16[0][0]']             \n",
      "                                )                                                                 \n",
      "                                                                                                  \n",
      " batch_normalization_33 (BatchN  (None, 112, 112, 64  256        ['conv2d_35[0][0]']              \n",
      " ormalization)                  )                                                                 \n",
      "                                                                                                  \n",
      " conv2d_transpose_7 (Conv2DTran  (None, 224, 224, 32  8224       ['batch_normalization_33[0][0]'] \n",
      " spose)                         )                                                                 \n",
      "                                                                                                  \n",
      " concatenate_7 (Concatenate)    (None, 224, 224, 64  0           ['conv2d_transpose_7[0][0]',     \n",
      "                                )                                 'batch_normalization_19[0][0]'] \n",
      "                                                                                                  \n",
      " conv2d_36 (Conv2D)             (None, 224, 224, 32  18464       ['concatenate_7[0][0]']          \n",
      "                                )                                                                 \n",
      "                                                                                                  \n",
      " batch_normalization_34 (BatchN  (None, 224, 224, 32  128        ['conv2d_36[0][0]']              \n",
      " ormalization)                  )                                                                 \n",
      "                                                                                                  \n",
      " dropout_17 (Dropout)           (None, 224, 224, 32  0           ['batch_normalization_34[0][0]'] \n",
      "                                )                                                                 \n",
      "                                                                                                  \n",
      " conv2d_37 (Conv2D)             (None, 224, 224, 32  9248        ['dropout_17[0][0]']             \n",
      "                                )                                                                 \n",
      "                                                                                                  \n",
      " batch_normalization_35 (BatchN  (None, 224, 224, 32  128        ['conv2d_37[0][0]']              \n",
      " ormalization)                  )                                                                 \n",
      "                                                                                                  \n",
      " conv2d_38 (Conv2D)             (None, 224, 224, 1)  33          ['batch_normalization_35[0][0]'] \n",
      "                                                                                                  \n",
      "==================================================================================================\n",
      "Total params: 7,771,297\n",
      "Trainable params: 7,765,409\n",
      "Non-trainable params: 5,888\n",
      "__________________________________________________________________________________________________\n"
     ]
    }
   ],
   "source": [
    "Unet = unet(image_input_size, 1)\n",
    "Unet.compile(optimizer=tf.keras.optimizers.Adam(learning_rate=0.00001),\n",
    "                    loss='sparse_categorical_crossentropy',\n",
    "                    metrics=['accuracy'])\n",
    "Unet.summary()"
   ],
   "metadata": {
    "collapsed": false
   }
  },
  {
   "cell_type": "code",
   "execution_count": null,
   "outputs": [
    {
     "name": "stdout",
     "output_type": "stream",
     "text": [
      "Epoch 1/100\n"
     ]
    },
    {
     "name": "stderr",
     "output_type": "stream",
     "text": [
      "2023-02-18 16:06:21.214793: I tensorflow/core/grappler/optimizers/custom_graph_optimizer_registry.cc:114] Plugin optimizer for device_type GPU is enabled.\n"
     ]
    }
   ],
   "source": [
    "unet_history = Unet.fit(train_df,\n",
    "                        epochs=epochs,\n",
    "                        verbose=1,\n",
    "                        validation_data=validation_df)"
   ],
   "metadata": {
    "collapsed": false,
    "pycharm": {
     "is_executing": true
    }
   }
  },
  {
   "cell_type": "code",
   "execution_count": null,
   "outputs": [],
   "source": [],
   "metadata": {
    "collapsed": false
   }
  }
 ],
 "metadata": {
  "kernelspec": {
   "display_name": "Python 3",
   "language": "python",
   "name": "python3"
  },
  "language_info": {
   "codemirror_mode": {
    "name": "ipython",
    "version": 2
   },
   "file_extension": ".py",
   "mimetype": "text/x-python",
   "name": "python",
   "nbconvert_exporter": "python",
   "pygments_lexer": "ipython2",
   "version": "2.7.6"
  }
 },
 "nbformat": 4,
 "nbformat_minor": 0
}
