{
 "cells": [
  {
   "cell_type": "code",
   "execution_count": null,
   "metadata": {
    "collapsed": true
   },
   "outputs": [],
   "source": [
    "from tqdm import tqdm\n",
    "import numpy as np\n",
    "import cv2\n",
    "import pandas as pd\n",
    "from matplotlib import pyplot as plt\n",
    "import tensorflow as tf\n",
    "from tensorflow.keras.optimizers import *\n",
    "from keras.applications.efficientnet import *\n",
    "from keras.preprocessing.image import ImageDataGenerator\n",
    "from models import *\n",
    "import os\n",
    "import warnings"
   ]
  },
  {
   "cell_type": "code",
   "execution_count": null,
   "outputs": [],
   "source": [
    "warnings.filterwarnings('ignore')\n",
    "plt.rcParams[\"figure.dpi\"] = 120\n",
    "image_dimension = (224, 224)\n",
    "epochs=100\n",
    "batch_size = 32\n",
    "epoch_index = [i for i in range(1, epochs+1)]"
   ],
   "metadata": {
    "collapsed": false
   }
  },
  {
   "cell_type": "markdown",
   "source": [
    "#### Check whether GPU is available"
   ],
   "metadata": {
    "collapsed": false
   }
  },
  {
   "cell_type": "code",
   "execution_count": null,
   "outputs": [],
   "source": [
    "tf.config.list_physical_devices('GPU')"
   ],
   "metadata": {
    "collapsed": false
   }
  },
  {
   "cell_type": "markdown",
   "source": [
    "#### Load Data, Label for prediction (currently use one dataset (Brain MRI Data2))"
   ],
   "metadata": {
    "collapsed": false
   }
  },
  {
   "cell_type": "code",
   "execution_count": null,
   "outputs": [],
   "source": [
    "labels = {\"glioma_tumor\":1, \"meningioma_tumor\":2, \"no_tumor\":0, \"pituitary_tumor\":3}\n",
    "dir_name = \"MRI_DATA\"\n",
    "image_list = list()\n",
    "truth_list = list()\n",
    "\n",
    "for label, index in labels.items():\n",
    "    path = os.path.join(\"Brain_MRI_data2\", dir_name, label)\n",
    "    images = os.listdir(path)\n",
    "    for image in tqdm(images):\n",
    "        current_image = cv2.imread(os.path.join(path, image))\n",
    "        current_image = cv2.resize(current_image, image_dimension)\n",
    "        image_list.append(current_image)\n",
    "        truth_list.append(index)\n",
    "\n",
    "features = np.array(image_list)/255.0 # rescale\n",
    "labels = tf.keras.utils.to_categorical(truth_list)"
   ],
   "metadata": {
    "collapsed": false
   }
  },
  {
   "cell_type": "code",
   "execution_count": null,
   "outputs": [],
   "source": [
    "print(\"image dimension: {}, label dimension: {}\".format(features.shape, labels.shape))"
   ],
   "metadata": {
    "collapsed": false
   }
  },
  {
   "cell_type": "markdown",
   "source": [
    "#### Define model saving function"
   ],
   "metadata": {
    "collapsed": false
   }
  },
  {
   "cell_type": "code",
   "execution_count": null,
   "outputs": [],
   "source": [
    "def save_model(model_name):\n",
    "    checkpoint = tf.keras.callbacks.ModelCheckpoint(os.path.join(\"trained_model_weights\", model_name),\n",
    "                                 monitor='val_accuracy',\n",
    "                                 verbose=1,\n",
    "                                 save_best_only=True,\n",
    "                                 mode='max')\n",
    "    return [checkpoint]"
   ],
   "metadata": {
    "collapsed": false
   }
  },
  {
   "cell_type": "markdown",
   "source": [
    "#### Split dataset into train, validation and test set"
   ],
   "metadata": {
    "collapsed": false
   }
  },
  {
   "cell_type": "code",
   "execution_count": null,
   "outputs": [],
   "source": [
    "from sklearn.model_selection import train_test_split\n",
    "X_train, X_test, y_train, y_test = train_test_split(features, labels, test_size=0.25, random_state=42, shuffle=True)\n",
    "train_generator = ImageDataGenerator(validation_split=0.25)\n",
    "test_generator = ImageDataGenerator()\n",
    "\n",
    "train_df = train_generator.flow(X_train, y_train, batch_size=batch_size, subset=\"training\")\n",
    "validation_df = train_generator.flow(X_train, y_train, batch_size=batch_size, subset=\"validation\")\n",
    "test_df = train_generator.flow(X_test, y_test, batch_size=batch_size)"
   ],
   "metadata": {
    "collapsed": false
   }
  },
  {
   "cell_type": "markdown",
   "source": [
    "#### Use a simple CNN"
   ],
   "metadata": {
    "collapsed": false
   }
  },
  {
   "cell_type": "code",
   "execution_count": null,
   "outputs": [],
   "source": [
    "simple_cnn_path = \"simple_cnn.hdf5\"\n",
    "model_simple_cnn = simple_cnn()\n",
    "model_simple_cnn.compile(optimizer='adam',\n",
    "              loss='categorical_crossentropy',\n",
    "              metrics=['accuracy'])\n",
    "model_simple_cnn.summary()"
   ],
   "metadata": {
    "collapsed": false
   }
  },
  {
   "cell_type": "code",
   "execution_count": null,
   "outputs": [],
   "source": [
    "simple_cnn_history = model_simple_cnn.fit(train_df,\n",
    "                                          epochs=epochs,\n",
    "                                          verbose=1,\n",
    "                                          validation_data=validation_df,\n",
    "                                          callbacks=save_model(simple_cnn_path))"
   ],
   "metadata": {
    "collapsed": false
   }
  },
  {
   "cell_type": "code",
   "execution_count": null,
   "outputs": [],
   "source": [
    "model_simple_cnn.load_weights(os.path.join(\"trained_model_weights\", simple_cnn_path))\n",
    "model_simple_cnn.evaluate(test_df)"
   ],
   "metadata": {
    "collapsed": false
   }
  },
  {
   "cell_type": "code",
   "execution_count": null,
   "outputs": [],
   "source": [
    "simple_cnn_result = pd.DataFrame({\"Accuracy\": simple_cnn_history.history[\"val_accuracy\"],\n",
    "                                  \"Loss\": simple_cnn_history.history[\"val_loss\"]}, index=epoch_index)\n",
    "simple_cnn_result.to_csv(\"Simple_CNN_result.csv\")\n",
    "ax_simple_cnn = simple_cnn_result.plot.line(figsize=(16, 9))\n",
    "ax_simple_cnn.set_xlabel(\"Epoch\")\n",
    "ax_simple_cnn.set_ylabel(\"Score\")\n",
    "ax_simple_cnn.set_title(\"Simple CNN Model\")"
   ],
   "metadata": {
    "collapsed": false
   }
  },
  {
   "cell_type": "markdown",
   "source": [
    "#### Using Resnet50"
   ],
   "metadata": {
    "collapsed": false
   }
  },
  {
   "cell_type": "code",
   "execution_count": null,
   "outputs": [],
   "source": [
    "model_resnet_path = \"resnet50.hdf5\"\n",
    "model_resnet = resnet_50()\n",
    "model_resnet.compile(optimizer=tf.keras.optimizers.Adam(learning_rate=0.00001),\n",
    "              loss='categorical_crossentropy',\n",
    "              metrics=['accuracy'])\n",
    "model_resnet.summary()"
   ],
   "metadata": {
    "collapsed": false
   }
  },
  {
   "cell_type": "code",
   "execution_count": null,
   "outputs": [],
   "source": [
    "model_resnet_history = model_resnet.fit(train_df,\n",
    "                 epochs=epochs,\n",
    "                 verbose=1,\n",
    "                 validation_data=validation_df,\n",
    "                 callbacks=save_model(model_resnet_path))"
   ],
   "metadata": {
    "collapsed": false
   }
  },
  {
   "cell_type": "code",
   "execution_count": null,
   "outputs": [],
   "source": [
    "epoch_index = [i for i in range(1, epochs+1)]\n",
    "resnet_result = pd.DataFrame({\"Accuracy\": model_resnet_history.history[\"val_accuracy\"],\n",
    "                                  \"Loss\": model_resnet_history.history[\"val_loss\"]}, index=epoch_index)\n",
    "resnet_result.to_csv(\"resnet_result.csv\")\n",
    "ax_resnet = resnet_result.plot.line(figsize=(16, 9))\n",
    "ax_resnet.set_xlabel(\"Epoch\")\n",
    "ax_resnet.set_ylabel(\"Score\")\n",
    "ax_resnet.set_title(\"Resnet50 Model\")"
   ],
   "metadata": {
    "collapsed": false
   }
  },
  {
   "cell_type": "code",
   "execution_count": null,
   "outputs": [],
   "source": [
    "model_resnet.load_weights(os.path.join(\"trained_model_weights\", model_resnet_path))\n",
    "model_resnet.evaluate(test_df)"
   ],
   "metadata": {
    "collapsed": false
   }
  },
  {
   "cell_type": "markdown",
   "source": [
    "#### Using VGG-16"
   ],
   "metadata": {
    "collapsed": false
   }
  },
  {
   "cell_type": "code",
   "execution_count": null,
   "outputs": [],
   "source": [
    "model_vgg16_path = \"vgg16.hdf5\"\n",
    "model_vgg16 = vgg_16()\n",
    "model_vgg16.compile(optimizer=tf.keras.optimizers.Adam(learning_rate=0.00001),\n",
    "                    loss='categorical_crossentropy',\n",
    "                    metrics=['accuracy'])\n",
    "model_vgg16.summary()"
   ],
   "metadata": {
    "collapsed": false,
    "pycharm": {
     "name": "#%%mo\n"
    }
   }
  },
  {
   "cell_type": "code",
   "execution_count": null,
   "outputs": [],
   "source": [
    "model_vgg16_history = model_vgg16.fit(train_df,\n",
    "                                      verbose=1,\n",
    "                                      epochs=epochs,\n",
    "                                      validation_data=validation_df,\n",
    "                                      callbacks=save_model(model_vgg16_path))"
   ],
   "metadata": {
    "collapsed": false
   }
  },
  {
   "cell_type": "code",
   "execution_count": null,
   "outputs": [],
   "source": [
    "vgg16_result = pd.DataFrame({\"Accuracy\": model_vgg16_history.history[\"val_accuracy\"],\n",
    "                             \"Loss\": model_vgg16_history.history[\"val_loss\"]}, index=epoch_index)\n",
    "vgg16_result.to_csv(\"vgg16_result.csv\")\n",
    "ax_vgg16 = vgg16_result.plot.line(figsize=(16, 9))\n",
    "ax_vgg16.set_xlabel(\"Epoch\")\n",
    "ax_vgg16.set_ylabel(\"Score\")\n",
    "ax_vgg16.set_title(\"VGG16 Model\")"
   ],
   "metadata": {
    "collapsed": false
   }
  },
  {
   "cell_type": "code",
   "execution_count": null,
   "outputs": [],
   "source": [
    "model_vgg16.load_weights(os.path.join(\"trained_model_weights\", model_vgg16_path))\n",
    "model_vgg16.evaluate(test_df)"
   ],
   "metadata": {
    "collapsed": false
   }
  },
  {
   "cell_type": "markdown",
   "source": [
    "#### Using VGG-19"
   ],
   "metadata": {
    "collapsed": false
   }
  },
  {
   "cell_type": "code",
   "execution_count": null,
   "outputs": [],
   "source": [
    "model_vgg19_path = \"vgg19.hdf5\"\n",
    "model_vgg19 = vgg_19()\n",
    "model_vgg19.compile(optimizer=tf.keras.optimizers.Adam(learning_rate=0.00001),\n",
    "                    loss='categorical_crossentropy',\n",
    "                    metrics=['accuracy'])\n",
    "model_vgg19.summary()"
   ],
   "metadata": {
    "collapsed": false,
    "pycharm": {
     "is_executing": true
    }
   }
  },
  {
   "cell_type": "code",
   "execution_count": null,
   "outputs": [],
   "source": [
    "model_vgg19_history = model_vgg19.fit(train_df,\n",
    "                                      verbose=1,\n",
    "                                      epochs=epochs,\n",
    "                                      validation_data=validation_df,\n",
    "                                      callbacks=save_model(model_vgg19_path))"
   ],
   "metadata": {
    "collapsed": false
   }
  },
  {
   "cell_type": "code",
   "execution_count": null,
   "outputs": [],
   "source": [
    "vgg19_result = pd.DataFrame({\"Accuracy\": model_vgg19_history.history[\"val_accuracy\"],\n",
    "                             \"Loss\": model_vgg19_history.history[\"val_loss\"]}, index=epoch_index)\n",
    "vgg19_result.to_csv(\"vgg19_result.csv\")\n",
    "ax_vgg19 = vgg19_result.plot.line(figsize=(16, 9))\n",
    "ax_vgg19.set_xlabel(\"Epoch\")\n",
    "ax_vgg19.set_ylabel(\"Score\")\n",
    "ax_vgg19.set_title(\"VGG16 Model\")"
   ],
   "metadata": {
    "collapsed": false
   }
  },
  {
   "cell_type": "code",
   "execution_count": null,
   "outputs": [],
   "source": [
    "model_vgg19.load_weights(os.path.join(\"trained_model_weights\", model_vgg19_path))\n",
    "model_vgg19.evaluate(test_df)"
   ],
   "metadata": {
    "collapsed": false
   }
  },
  {
   "cell_type": "markdown",
   "source": [
    "#### Using efficientnet B0"
   ],
   "metadata": {
    "collapsed": false
   }
  },
  {
   "cell_type": "code",
   "execution_count": null,
   "outputs": [],
   "source": [
    "model_efficientnetB0_path = \"efficientnetB0.hdf5\"\n",
    "model_efficientnetB0 = efficientnet(EfficientNetB0())\n",
    "model_efficientnetB0.compile(optimizer=tf.keras.optimizers.Adam(learning_rate=0.00001),\n",
    "                    loss='categorical_crossentropy',\n",
    "                    metrics=['accuracy'])\n",
    "model_efficientnetB0.summary()"
   ],
   "metadata": {
    "collapsed": false
   }
  },
  {
   "cell_type": "code",
   "execution_count": null,
   "outputs": [],
   "source": [
    "model_efficientnetB0_history = model_efficientnetB0.fit(train_df,\n",
    "                                      verbose=1,\n",
    "                                      epochs=epochs,\n",
    "                                      validation_data=validation_df,\n",
    "                                      callbacks=save_model(model_efficientnetB0_path))"
   ],
   "metadata": {
    "collapsed": false
   }
  },
  {
   "cell_type": "code",
   "execution_count": null,
   "outputs": [],
   "source": [
    "efficientnetB0_result = pd.DataFrame({\"Accuracy\": model_efficientnetB0_history.history[\"val_accuracy\"],\n",
    "                             \"Loss\": model_efficientnetB0_history.history[\"val_loss\"]}, index=epoch_index)\n",
    "efficientnetB0_result.to_csv(\"efficientnetB3_result.csv\")\n",
    "ax_efficientnetB3 = efficientnetB0_result.plot.line(figsize=(16, 9))\n",
    "ax_vgg19.set_xlabel(\"Epoch\")\n",
    "ax_vgg19.set_ylabel(\"Score\")\n",
    "ax_vgg19.set_title(\"efficientnetB3 Model\")"
   ],
   "metadata": {
    "collapsed": false
   }
  },
  {
   "cell_type": "code",
   "execution_count": null,
   "outputs": [],
   "source": [
    "model_efficientnetB0.load_weights(os.path.join(\"trained_model_weights\", model_efficientnetB0_path))\n",
    "model_efficientnetB0.evaluate(test_df)"
   ],
   "metadata": {
    "collapsed": false
   }
  },
  {
   "cell_type": "code",
   "execution_count": null,
   "outputs": [],
   "source": [
    "model_accuracy_compare = pd.DataFrame({\"simple_cnn\": simple_cnn_history.history[\"val_accuracy\"],\n",
    "                                       \"resnet50\": model_resnet_history.history[\"val_accuracy\"],\n",
    "                                       \"vgg16\": model_vgg16_history.history[\"val_accuracy\"],\n",
    "                                       \"vgg19\": model_vgg19_history.history[\"val_accuracy\"],\n",
    "                                       \"efficientnetB3\": model_efficientnetB0_history.history[\"val_accuracy\"]})\n",
    "\n",
    "model_accuracy_compare.plot.line(figsize=(16, 9))\n",
    "\n",
    "\n",
    "model_loss_compare = pd.DataFrame({\"simple_cnn\": simple_cnn_history.history[\"val_loss\"],\n",
    "                                   \"resnet50\": model_resnet_history.history[\"val_loss\"],\n",
    "                                   \"vgg16\": model_vgg16_history.history[\"val_loss\"],\n",
    "                                   \"vgg19\": model_vgg19_history.history[\"val_loss\"],\n",
    "                                   \"efficientnetB3\": model_efficientnetB0_history.history[\"val_loss\"]})\n",
    "\n",
    "model_loss_compare.plot.line(figsize=(16, 9))"
   ],
   "metadata": {
    "collapsed": false
   }
  },
  {
   "cell_type": "code",
   "execution_count": null,
   "outputs": [],
   "source": [],
   "metadata": {
    "collapsed": false
   }
  }
 ],
 "metadata": {
  "kernelspec": {
   "display_name": "Python 3",
   "language": "python",
   "name": "python3"
  },
  "language_info": {
   "codemirror_mode": {
    "name": "ipython",
    "version": 2
   },
   "file_extension": ".py",
   "mimetype": "text/x-python",
   "name": "python",
   "nbconvert_exporter": "python",
   "pygments_lexer": "ipython2",
   "version": "2.7.6"
  }
 },
 "nbformat": 4,
 "nbformat_minor": 0
}
