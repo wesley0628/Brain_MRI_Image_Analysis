{
 "cells": [
  {
   "cell_type": "code",
   "execution_count": 1,
   "metadata": {
    "collapsed": true
   },
   "outputs": [],
   "source": [
    "import os\n",
    "import pandas as pd\n",
    "import matplotlib.pyplot as plt\n",
    "import tensorflow as tf\n",
    "import keras\n",
    "from keras_preprocessing.image import ImageDataGenerator\n",
    "from sklearn.model_selection import train_test_split\n",
    "import cv2\n",
    "import numpy as np\n",
    "from tqdm import tqdm\n",
    "import warnings\n",
    "from keras.models import *\n",
    "from keras.layers import *\n",
    "from keras.layers import *\n",
    "from keras.optimizers import *\n",
    "from keras import backend as keras\n",
    "from keras import Model"
   ]
  },
  {
   "cell_type": "code",
   "execution_count": 15,
   "outputs": [],
   "source": [
    "warnings.filterwarnings('ignore')\n",
    "plt.rcParams[\"figure.dpi\"] = 120\n",
    "image_height = 256\n",
    "image_width = 256\n",
    "image_depth = 1\n",
    "epochs=50\n",
    "batch_size = 32\n",
    "epoch_index = [i for i in range(1, epochs+1)]"
   ],
   "metadata": {
    "collapsed": false
   }
  },
  {
   "cell_type": "markdown",
   "source": [
    "#### Load data"
   ],
   "metadata": {
    "collapsed": false
   }
  },
  {
   "cell_type": "code",
   "execution_count": 3,
   "outputs": [],
   "source": [
    "images = np.load(os.path.join(\"Brain_MRI_data1\", \"images.npy\"), allow_pickle=True)\n",
    "masks = np.load(os.path.join(\"Brain_MRI_data1\", \"masks.npy\"), allow_pickle=True)"
   ],
   "metadata": {
    "collapsed": false
   }
  },
  {
   "cell_type": "markdown",
   "source": [
    "#### Change all image to grey"
   ],
   "metadata": {
    "collapsed": false
   }
  },
  {
   "cell_type": "code",
   "execution_count": 4,
   "outputs": [
    {
     "name": "stderr",
     "output_type": "stream",
     "text": [
      " 10%|▉         | 303/3064 [00:02<00:24, 112.89it/s]\n"
     ]
    },
    {
     "ename": "KeyboardInterrupt",
     "evalue": "",
     "output_type": "error",
     "traceback": [
      "\u001B[1;31m---------------------------------------------------------------------------\u001B[0m",
      "\u001B[1;31mKeyboardInterrupt\u001B[0m                         Traceback (most recent call last)",
      "Cell \u001B[1;32mIn[4], line 3\u001B[0m\n\u001B[0;32m      1\u001B[0m image_index \u001B[38;5;241m=\u001B[39m \u001B[38;5;241m0\u001B[39m\n\u001B[0;32m      2\u001B[0m \u001B[38;5;28;01mfor\u001B[39;00m image \u001B[38;5;129;01min\u001B[39;00m tqdm(images):\n\u001B[1;32m----> 3\u001B[0m     \u001B[43mplt\u001B[49m\u001B[38;5;241;43m.\u001B[39;49m\u001B[43mimsave\u001B[49m\u001B[43m(\u001B[49m\u001B[43mos\u001B[49m\u001B[38;5;241;43m.\u001B[39;49m\u001B[43mpath\u001B[49m\u001B[38;5;241;43m.\u001B[39;49m\u001B[43mjoin\u001B[49m\u001B[43m(\u001B[49m\u001B[38;5;124;43m\"\u001B[39;49m\u001B[38;5;124;43mBrain_MRI_Segment_image\u001B[39;49m\u001B[38;5;124;43m\"\u001B[39;49m\u001B[43m,\u001B[49m\u001B[43m \u001B[49m\u001B[38;5;124;43m\"\u001B[39;49m\u001B[38;5;124;43mimage_\u001B[39;49m\u001B[38;5;132;43;01m{}\u001B[39;49;00m\u001B[38;5;124;43m.jpg\u001B[39;49m\u001B[38;5;124;43m\"\u001B[39;49m\u001B[38;5;241;43m.\u001B[39;49m\u001B[43mformat\u001B[49m\u001B[43m(\u001B[49m\u001B[43mimage_index\u001B[49m\u001B[43m)\u001B[49m\u001B[43m)\u001B[49m\u001B[43m,\u001B[49m\u001B[43m \u001B[49m\u001B[43mimage\u001B[49m\u001B[43m,\u001B[49m\u001B[43m \u001B[49m\u001B[43mcmap\u001B[49m\u001B[38;5;241;43m=\u001B[39;49m\u001B[38;5;124;43m'\u001B[39;49m\u001B[38;5;124;43mgray\u001B[39;49m\u001B[38;5;124;43m'\u001B[39;49m\u001B[43m)\u001B[49m\n\u001B[0;32m      4\u001B[0m     image_index \u001B[38;5;241m+\u001B[39m\u001B[38;5;241m=\u001B[39m \u001B[38;5;241m1\u001B[39m\n\u001B[0;32m      6\u001B[0m mask_index \u001B[38;5;241m=\u001B[39m \u001B[38;5;241m0\u001B[39m\n",
      "File \u001B[1;32m~\\anaconda3\\envs\\Brain_MRI_Analysis\\lib\\site-packages\\matplotlib\\pyplot.py:2163\u001B[0m, in \u001B[0;36mimsave\u001B[1;34m(fname, arr, **kwargs)\u001B[0m\n\u001B[0;32m   2161\u001B[0m \u001B[38;5;129m@_copy_docstring_and_deprecators\u001B[39m(matplotlib\u001B[38;5;241m.\u001B[39mimage\u001B[38;5;241m.\u001B[39mimsave)\n\u001B[0;32m   2162\u001B[0m \u001B[38;5;28;01mdef\u001B[39;00m \u001B[38;5;21mimsave\u001B[39m(fname, arr, \u001B[38;5;241m*\u001B[39m\u001B[38;5;241m*\u001B[39mkwargs):\n\u001B[1;32m-> 2163\u001B[0m     \u001B[38;5;28;01mreturn\u001B[39;00m matplotlib\u001B[38;5;241m.\u001B[39mimage\u001B[38;5;241m.\u001B[39mimsave(fname, arr, \u001B[38;5;241m*\u001B[39m\u001B[38;5;241m*\u001B[39mkwargs)\n",
      "File \u001B[1;32m~\\anaconda3\\envs\\Brain_MRI_Analysis\\lib\\site-packages\\matplotlib\\image.py:1641\u001B[0m, in \u001B[0;36mimsave\u001B[1;34m(fname, arr, vmin, vmax, cmap, format, origin, dpi, metadata, pil_kwargs)\u001B[0m\n\u001B[0;32m   1639\u001B[0m     rgba \u001B[38;5;241m=\u001B[39m arr\n\u001B[0;32m   1640\u001B[0m \u001B[38;5;28;01melse\u001B[39;00m:\n\u001B[1;32m-> 1641\u001B[0m     rgba \u001B[38;5;241m=\u001B[39m \u001B[43msm\u001B[49m\u001B[38;5;241;43m.\u001B[39;49m\u001B[43mto_rgba\u001B[49m\u001B[43m(\u001B[49m\u001B[43marr\u001B[49m\u001B[43m,\u001B[49m\u001B[43m \u001B[49m\u001B[38;5;28;43mbytes\u001B[39;49m\u001B[38;5;241;43m=\u001B[39;49m\u001B[38;5;28;43;01mTrue\u001B[39;49;00m\u001B[43m)\u001B[49m\n\u001B[0;32m   1642\u001B[0m \u001B[38;5;28;01mif\u001B[39;00m pil_kwargs \u001B[38;5;129;01mis\u001B[39;00m \u001B[38;5;28;01mNone\u001B[39;00m:\n\u001B[0;32m   1643\u001B[0m     pil_kwargs \u001B[38;5;241m=\u001B[39m {}\n",
      "File \u001B[1;32m~\\anaconda3\\envs\\Brain_MRI_Analysis\\lib\\site-packages\\matplotlib\\cm.py:456\u001B[0m, in \u001B[0;36mScalarMappable.to_rgba\u001B[1;34m(self, x, alpha, bytes, norm)\u001B[0m\n\u001B[0;32m    454\u001B[0m \u001B[38;5;28;01mif\u001B[39;00m norm:\n\u001B[0;32m    455\u001B[0m     x \u001B[38;5;241m=\u001B[39m \u001B[38;5;28mself\u001B[39m\u001B[38;5;241m.\u001B[39mnorm(x)\n\u001B[1;32m--> 456\u001B[0m rgba \u001B[38;5;241m=\u001B[39m \u001B[38;5;28;43mself\u001B[39;49m\u001B[38;5;241;43m.\u001B[39;49m\u001B[43mcmap\u001B[49m\u001B[43m(\u001B[49m\u001B[43mx\u001B[49m\u001B[43m,\u001B[49m\u001B[43m \u001B[49m\u001B[43malpha\u001B[49m\u001B[38;5;241;43m=\u001B[39;49m\u001B[43malpha\u001B[49m\u001B[43m,\u001B[49m\u001B[43m \u001B[49m\u001B[38;5;28;43mbytes\u001B[39;49m\u001B[38;5;241;43m=\u001B[39;49m\u001B[38;5;28;43mbytes\u001B[39;49m\u001B[43m)\u001B[49m\n\u001B[0;32m    457\u001B[0m \u001B[38;5;28;01mreturn\u001B[39;00m rgba\n",
      "File \u001B[1;32m~\\anaconda3\\envs\\Brain_MRI_Analysis\\lib\\site-packages\\matplotlib\\colors.py:642\u001B[0m, in \u001B[0;36mColormap.__call__\u001B[1;34m(self, X, alpha, bytes)\u001B[0m\n\u001B[0;32m    639\u001B[0m     lut \u001B[38;5;241m=\u001B[39m \u001B[38;5;28mself\u001B[39m\u001B[38;5;241m.\u001B[39m_lut\u001B[38;5;241m.\u001B[39mcopy()  \u001B[38;5;66;03m# Don't let alpha modify original _lut.\u001B[39;00m\n\u001B[0;32m    641\u001B[0m rgba \u001B[38;5;241m=\u001B[39m np\u001B[38;5;241m.\u001B[39mempty(shape\u001B[38;5;241m=\u001B[39mxa\u001B[38;5;241m.\u001B[39mshape \u001B[38;5;241m+\u001B[39m (\u001B[38;5;241m4\u001B[39m,), dtype\u001B[38;5;241m=\u001B[39mlut\u001B[38;5;241m.\u001B[39mdtype)\n\u001B[1;32m--> 642\u001B[0m \u001B[43mlut\u001B[49m\u001B[38;5;241;43m.\u001B[39;49m\u001B[43mtake\u001B[49m\u001B[43m(\u001B[49m\u001B[43mxa\u001B[49m\u001B[43m,\u001B[49m\u001B[43m \u001B[49m\u001B[43maxis\u001B[49m\u001B[38;5;241;43m=\u001B[39;49m\u001B[38;5;241;43m0\u001B[39;49m\u001B[43m,\u001B[49m\u001B[43m \u001B[49m\u001B[43mmode\u001B[49m\u001B[38;5;241;43m=\u001B[39;49m\u001B[38;5;124;43m'\u001B[39;49m\u001B[38;5;124;43mclip\u001B[39;49m\u001B[38;5;124;43m'\u001B[39;49m\u001B[43m,\u001B[49m\u001B[43m \u001B[49m\u001B[43mout\u001B[49m\u001B[38;5;241;43m=\u001B[39;49m\u001B[43mrgba\u001B[49m\u001B[43m)\u001B[49m\n\u001B[0;32m    644\u001B[0m \u001B[38;5;28;01mif\u001B[39;00m alpha \u001B[38;5;129;01mis\u001B[39;00m \u001B[38;5;129;01mnot\u001B[39;00m \u001B[38;5;28;01mNone\u001B[39;00m:\n\u001B[0;32m    645\u001B[0m     \u001B[38;5;28;01mif\u001B[39;00m np\u001B[38;5;241m.\u001B[39miterable(alpha):\n",
      "\u001B[1;31mKeyboardInterrupt\u001B[0m: "
     ]
    }
   ],
   "source": [
    "image_index = 0\n",
    "for image in tqdm(images):\n",
    "    plt.imsave(os.path.join(\"Brain_MRI_Segment_image\", \"image_{}.jpg\".format(image_index)), image, cmap='gray')\n",
    "    image_index += 1\n",
    "\n",
    "mask_index = 0\n",
    "for mask in tqdm(masks):\n",
    "    plt.imsave(os.path.join(\"Brain_MRI_Segment_mask\", \"mask_{}.jpg\".format(mask_index)), mask, cmap='gray')\n",
    "    mask_index += 1"
   ],
   "metadata": {
    "collapsed": false
   }
  },
  {
   "cell_type": "code",
   "execution_count": 3,
   "outputs": [
    {
     "name": "stderr",
     "output_type": "stream",
     "text": [
      "100%|██████████| 3064/3064 [00:03<00:00, 941.40it/s]\n",
      "100%|██████████| 3064/3064 [00:02<00:00, 1395.99it/s]\n"
     ]
    }
   ],
   "source": [
    "image_dir_name = \"Brain_MRI_Segment_image\"\n",
    "mask_dir_name = \"Brain_MRI_Segment_mask\"\n",
    "image_list = list()\n",
    "mask_list = list()\n",
    "\n",
    "images_dir = sorted(os.listdir(image_dir_name))\n",
    "for image in tqdm(images_dir):\n",
    "    current_image = cv2.imread(os.path.join(image_dir_name, image), cv2.IMREAD_GRAYSCALE)\n",
    "    current_image = cv2.resize(current_image, (image_height, image_width))\n",
    "    current_image_180 = cv2.rotate(current_image, cv2.ROTATE_180)\n",
    "    current_image_r90 = cv2.rotate(current_image, cv2.ROTATE_90_CLOCKWISE)\n",
    "    current_image_l90 = cv2.rotate(current_image, cv2.ROTATE_90_COUNTERCLOCKWISE)\n",
    "    image_list.append(current_image)\n",
    "    image_list.append(current_image_180)\n",
    "    image_list.append(current_image_r90)\n",
    "    image_list.append(current_image_l90)\n",
    "\n",
    "\n",
    "\n",
    "masks_dir = sorted(os.listdir(mask_dir_name))\n",
    "for mask in tqdm(masks_dir):\n",
    "    current_mask = cv2.imread(os.path.join(mask_dir_name, mask), cv2.IMREAD_GRAYSCALE)\n",
    "    current_mask = cv2.resize(current_mask, (image_height, image_width))\n",
    "    current_mask_180 = cv2.rotate(current_mask, cv2.ROTATE_180)\n",
    "    current_mask_r90 = cv2.rotate(current_mask, cv2.ROTATE_90_CLOCKWISE)\n",
    "    current_mask_l90 = cv2.rotate(current_mask, cv2.ROTATE_90_COUNTERCLOCKWISE)\n",
    "    mask_list.append(current_mask)\n",
    "    mask_list.append(current_mask_180)\n",
    "    mask_list.append(current_mask_r90)\n",
    "    mask_list.append(current_mask_l90)\n",
    "\n",
    "\n",
    "features = np.array(image_list)/255.0\n",
    "masks = np.array(mask_list)/255.0\n",
    "features = features.reshape((features.shape[0], features.shape[1], features.shape[2], 1))\n",
    "masks = masks.reshape((masks.shape[0], masks.shape[1], masks.shape[2], 1))"
   ],
   "metadata": {
    "collapsed": false
   }
  },
  {
   "cell_type": "code",
   "execution_count": 4,
   "outputs": [
    {
     "name": "stdout",
     "output_type": "stream",
     "text": [
      "image dimension: (12256, 256, 256, 1), label dimension: (12256, 256, 256, 1)\n"
     ]
    }
   ],
   "source": [
    "print(\"image dimension: {}, label dimension: {}\".format(features.shape, masks.shape))"
   ],
   "metadata": {
    "collapsed": false
   }
  },
  {
   "cell_type": "markdown",
   "source": [
    "#### Train, Test, Validation Split"
   ],
   "metadata": {
    "collapsed": false
   }
  },
  {
   "cell_type": "code",
   "execution_count": 5,
   "outputs": [],
   "source": [
    "X_train, X_test, y_train, y_test = train_test_split(features, masks, test_size=0.25, random_state=42, shuffle=True)\n",
    "X_train, X_val, y_train, y_val = train_test_split(X_train, y_train, test_size=0.25, random_state=42, shuffle=True)\n",
    "y_train = y_train.astype('float32')\n",
    "y_test = y_test.astype('float32')\n",
    "y_val = y_val.astype(\"float32\")"
   ],
   "metadata": {
    "collapsed": false
   }
  },
  {
   "cell_type": "code",
   "execution_count": 6,
   "outputs": [],
   "source": [
    "# Save model function\n",
    "def save_model(model_name):\n",
    "    checkpoint = tf.keras.callbacks.ModelCheckpoint(os.path.join(\"trained_model_weights\", model_name),\n",
    "                                                    monitor='val_binary_accuracy',\n",
    "                                                    verbose=1,\n",
    "                                                    save_best_only=True,\n",
    "                                                    mode='max')\n",
    "    return [checkpoint]"
   ],
   "metadata": {
    "collapsed": false
   }
  },
  {
   "cell_type": "markdown",
   "source": [
    "#### Define U-Net Model and Loss Function"
   ],
   "metadata": {
    "collapsed": false
   }
  },
  {
   "cell_type": "code",
   "execution_count": 7,
   "outputs": [],
   "source": [
    "def dice_coef(y_true, y_pred):\n",
    "    y_true_f = keras.flatten(y_true)\n",
    "    y_pred_f = keras.flatten(y_pred)\n",
    "    intersection = keras.sum(y_true_f * y_pred_f)\n",
    "    return (2 * intersection + 1) / (keras.sum(y_true_f) + keras.sum(y_pred_f) + 1)\n",
    "\n",
    "def dice_coef_loss(y_true, y_pred):\n",
    "    return -dice_coef(y_true, y_pred)\n",
    "\n",
    "def unet(input_size=(256,256,1)):\n",
    "    inputs = Input(input_size)\n",
    "\n",
    "    conv1 = Conv2D(32, (3, 3), activation='relu', padding='same')(inputs)\n",
    "    conv1 = Conv2D(32, (3, 3), activation='relu', padding='same')(conv1)\n",
    "    pool1 = MaxPooling2D(pool_size=(2, 2))(conv1)\n",
    "\n",
    "    conv2 = Conv2D(64, (3, 3), activation='relu', padding='same')(pool1)\n",
    "    conv2 = Conv2D(64, (3, 3), activation='relu', padding='same')(conv2)\n",
    "    pool2 = MaxPooling2D(pool_size=(2, 2))(conv2)\n",
    "\n",
    "    conv3 = Conv2D(128, (3, 3), activation='relu', padding='same')(pool2)\n",
    "    conv3 = Conv2D(128, (3, 3), activation='relu', padding='same')(conv3)\n",
    "    pool3 = MaxPooling2D(pool_size=(2, 2))(conv3)\n",
    "\n",
    "    conv4 = Conv2D(256, (3, 3), activation='relu', padding='same')(pool3)\n",
    "    conv4 = Conv2D(256, (3, 3), activation='relu', padding='same')(conv4)\n",
    "    pool4 = MaxPooling2D(pool_size=(2, 2))(conv4)\n",
    "\n",
    "    conv5 = Conv2D(512, (3, 3), activation='relu', padding='same')(pool4)\n",
    "    conv5 = Conv2D(512, (3, 3), activation='relu', padding='same')(conv5)\n",
    "\n",
    "    up6 = concatenate([Conv2DTranspose(256, (2, 2), strides=(2, 2), padding='same')(conv5), conv4], axis=3)\n",
    "    conv6 = Conv2D(256, (3, 3), activation='relu', padding='same')(up6)\n",
    "    conv6 = Conv2D(256, (3, 3), activation='relu', padding='same')(conv6)\n",
    "\n",
    "    up7 = concatenate([Conv2DTranspose(128, (2, 2), strides=(2, 2), padding='same')(conv6), conv3], axis=3)\n",
    "    conv7 = Conv2D(128, (3, 3), activation='relu', padding='same')(up7)\n",
    "    conv7 = Conv2D(128, (3, 3), activation='relu', padding='same')(conv7)\n",
    "\n",
    "    up8 = concatenate([Conv2DTranspose(64, (2, 2), strides=(2, 2), padding='same')(conv7), conv2], axis=3)\n",
    "    conv8 = Conv2D(64, (3, 3), activation='relu', padding='same')(up8)\n",
    "    conv8 = Conv2D(64, (3, 3), activation='relu', padding='same')(conv8)\n",
    "\n",
    "    up9 = concatenate([Conv2DTranspose(32, (2, 2), strides=(2, 2), padding='same')(conv8), conv1], axis=3)\n",
    "    conv9 = Conv2D(32, (3, 3), activation='relu', padding='same')(up9)\n",
    "    conv9 = Conv2D(32, (3, 3), activation='relu', padding='same')(conv9)\n",
    "\n",
    "    conv10 = Conv2D(1, (1, 1), activation='sigmoid')(conv9)\n",
    "\n",
    "    return Model(inputs=[inputs], outputs=[conv10])\n"
   ],
   "metadata": {
    "collapsed": false
   }
  },
  {
   "cell_type": "code",
   "execution_count": 8,
   "outputs": [
    {
     "name": "stdout",
     "output_type": "stream",
     "text": [
      "Model: \"model\"\n",
      "__________________________________________________________________________________________________\n",
      "Layer (type)                    Output Shape         Param #     Connected to                     \n",
      "==================================================================================================\n",
      "input_1 (InputLayer)            [(None, 256, 256, 1) 0                                            \n",
      "__________________________________________________________________________________________________\n",
      "conv2d (Conv2D)                 (None, 256, 256, 32) 320         input_1[0][0]                    \n",
      "__________________________________________________________________________________________________\n",
      "conv2d_1 (Conv2D)               (None, 256, 256, 32) 9248        conv2d[0][0]                     \n",
      "__________________________________________________________________________________________________\n",
      "max_pooling2d (MaxPooling2D)    (None, 128, 128, 32) 0           conv2d_1[0][0]                   \n",
      "__________________________________________________________________________________________________\n",
      "conv2d_2 (Conv2D)               (None, 128, 128, 64) 18496       max_pooling2d[0][0]              \n",
      "__________________________________________________________________________________________________\n",
      "conv2d_3 (Conv2D)               (None, 128, 128, 64) 36928       conv2d_2[0][0]                   \n",
      "__________________________________________________________________________________________________\n",
      "max_pooling2d_1 (MaxPooling2D)  (None, 64, 64, 64)   0           conv2d_3[0][0]                   \n",
      "__________________________________________________________________________________________________\n",
      "conv2d_4 (Conv2D)               (None, 64, 64, 128)  73856       max_pooling2d_1[0][0]            \n",
      "__________________________________________________________________________________________________\n",
      "conv2d_5 (Conv2D)               (None, 64, 64, 128)  147584      conv2d_4[0][0]                   \n",
      "__________________________________________________________________________________________________\n",
      "max_pooling2d_2 (MaxPooling2D)  (None, 32, 32, 128)  0           conv2d_5[0][0]                   \n",
      "__________________________________________________________________________________________________\n",
      "conv2d_6 (Conv2D)               (None, 32, 32, 256)  295168      max_pooling2d_2[0][0]            \n",
      "__________________________________________________________________________________________________\n",
      "conv2d_7 (Conv2D)               (None, 32, 32, 256)  590080      conv2d_6[0][0]                   \n",
      "__________________________________________________________________________________________________\n",
      "max_pooling2d_3 (MaxPooling2D)  (None, 16, 16, 256)  0           conv2d_7[0][0]                   \n",
      "__________________________________________________________________________________________________\n",
      "conv2d_8 (Conv2D)               (None, 16, 16, 512)  1180160     max_pooling2d_3[0][0]            \n",
      "__________________________________________________________________________________________________\n",
      "conv2d_9 (Conv2D)               (None, 16, 16, 512)  2359808     conv2d_8[0][0]                   \n",
      "__________________________________________________________________________________________________\n",
      "conv2d_transpose (Conv2DTranspo (None, 32, 32, 256)  524544      conv2d_9[0][0]                   \n",
      "__________________________________________________________________________________________________\n",
      "concatenate (Concatenate)       (None, 32, 32, 512)  0           conv2d_transpose[0][0]           \n",
      "                                                                 conv2d_7[0][0]                   \n",
      "__________________________________________________________________________________________________\n",
      "conv2d_10 (Conv2D)              (None, 32, 32, 256)  1179904     concatenate[0][0]                \n",
      "__________________________________________________________________________________________________\n",
      "conv2d_11 (Conv2D)              (None, 32, 32, 256)  590080      conv2d_10[0][0]                  \n",
      "__________________________________________________________________________________________________\n",
      "conv2d_transpose_1 (Conv2DTrans (None, 64, 64, 128)  131200      conv2d_11[0][0]                  \n",
      "__________________________________________________________________________________________________\n",
      "concatenate_1 (Concatenate)     (None, 64, 64, 256)  0           conv2d_transpose_1[0][0]         \n",
      "                                                                 conv2d_5[0][0]                   \n",
      "__________________________________________________________________________________________________\n",
      "conv2d_12 (Conv2D)              (None, 64, 64, 128)  295040      concatenate_1[0][0]              \n",
      "__________________________________________________________________________________________________\n",
      "conv2d_13 (Conv2D)              (None, 64, 64, 128)  147584      conv2d_12[0][0]                  \n",
      "__________________________________________________________________________________________________\n",
      "conv2d_transpose_2 (Conv2DTrans (None, 128, 128, 64) 32832       conv2d_13[0][0]                  \n",
      "__________________________________________________________________________________________________\n",
      "concatenate_2 (Concatenate)     (None, 128, 128, 128 0           conv2d_transpose_2[0][0]         \n",
      "                                                                 conv2d_3[0][0]                   \n",
      "__________________________________________________________________________________________________\n",
      "conv2d_14 (Conv2D)              (None, 128, 128, 64) 73792       concatenate_2[0][0]              \n",
      "__________________________________________________________________________________________________\n",
      "conv2d_15 (Conv2D)              (None, 128, 128, 64) 36928       conv2d_14[0][0]                  \n",
      "__________________________________________________________________________________________________\n",
      "conv2d_transpose_3 (Conv2DTrans (None, 256, 256, 32) 8224        conv2d_15[0][0]                  \n",
      "__________________________________________________________________________________________________\n",
      "concatenate_3 (Concatenate)     (None, 256, 256, 64) 0           conv2d_transpose_3[0][0]         \n",
      "                                                                 conv2d_1[0][0]                   \n",
      "__________________________________________________________________________________________________\n",
      "conv2d_16 (Conv2D)              (None, 256, 256, 32) 18464       concatenate_3[0][0]              \n",
      "__________________________________________________________________________________________________\n",
      "conv2d_17 (Conv2D)              (None, 256, 256, 32) 9248        conv2d_16[0][0]                  \n",
      "__________________________________________________________________________________________________\n",
      "conv2d_18 (Conv2D)              (None, 256, 256, 1)  33          conv2d_17[0][0]                  \n",
      "==================================================================================================\n",
      "Total params: 7,759,521\n",
      "Trainable params: 7,759,521\n",
      "Non-trainable params: 0\n",
      "__________________________________________________________________________________________________\n"
     ]
    }
   ],
   "source": [
    "unet_path = \"unet.hdf5\"\n",
    "model_Unet = unet(input_size=(image_height,image_width,1))\n",
    "model_Unet.compile(optimizer=tf.keras.optimizers.Adam(learning_rate=0.00001), loss=dice_coef_loss, metrics=[dice_coef, 'binary_accuracy'])\n",
    "model_Unet.summary()"
   ],
   "metadata": {
    "collapsed": false
   }
  },
  {
   "cell_type": "code",
   "execution_count": 9,
   "outputs": [
    {
     "name": "stdout",
     "output_type": "stream",
     "text": [
      "Epoch 1/50\n",
      "216/216 [==============================] - 55s 194ms/step - loss: -0.0335 - dice_coef: 0.0335 - binary_accuracy: 0.3437 - val_loss: -0.0343 - val_dice_coef: 0.0343 - val_binary_accuracy: 0.4381\n",
      "\n",
      "Epoch 00001: val_binary_accuracy improved from -inf to 0.43811, saving model to trained_model_weights\\unet.hdf5\n",
      "Epoch 2/50\n",
      "216/216 [==============================] - 37s 172ms/step - loss: -0.0991 - dice_coef: 0.0993 - binary_accuracy: 0.6870 - val_loss: -0.2406 - val_dice_coef: 0.2406 - val_binary_accuracy: 0.9722\n",
      "\n",
      "Epoch 00002: val_binary_accuracy improved from 0.43811 to 0.97224, saving model to trained_model_weights\\unet.hdf5\n",
      "Epoch 3/50\n",
      "216/216 [==============================] - 37s 174ms/step - loss: -0.2718 - dice_coef: 0.2720 - binary_accuracy: 0.9729 - val_loss: -0.2927 - val_dice_coef: 0.2927 - val_binary_accuracy: 0.9711\n",
      "\n",
      "Epoch 00003: val_binary_accuracy did not improve from 0.97224\n",
      "Epoch 4/50\n",
      "216/216 [==============================] - 38s 174ms/step - loss: -0.3230 - dice_coef: 0.3233 - binary_accuracy: 0.9757 - val_loss: -0.2419 - val_dice_coef: 0.2420 - val_binary_accuracy: 0.9455\n",
      "\n",
      "Epoch 00004: val_binary_accuracy did not improve from 0.97224\n",
      "Epoch 5/50\n",
      "216/216 [==============================] - 38s 174ms/step - loss: -0.3499 - dice_coef: 0.3502 - binary_accuracy: 0.9754 - val_loss: -0.3867 - val_dice_coef: 0.3867 - val_binary_accuracy: 0.9789\n",
      "\n",
      "Epoch 00005: val_binary_accuracy improved from 0.97224 to 0.97892, saving model to trained_model_weights\\unet.hdf5\n",
      "Epoch 6/50\n",
      "216/216 [==============================] - 37s 174ms/step - loss: -0.3941 - dice_coef: 0.3939 - binary_accuracy: 0.9783 - val_loss: -0.4164 - val_dice_coef: 0.4164 - val_binary_accuracy: 0.9807\n",
      "\n",
      "Epoch 00006: val_binary_accuracy improved from 0.97892 to 0.98066, saving model to trained_model_weights\\unet.hdf5\n",
      "Epoch 7/50\n",
      "216/216 [==============================] - 38s 174ms/step - loss: -0.3957 - dice_coef: 0.3955 - binary_accuracy: 0.9771 - val_loss: -0.4196 - val_dice_coef: 0.4196 - val_binary_accuracy: 0.9807\n",
      "\n",
      "Epoch 00007: val_binary_accuracy did not improve from 0.98066\n",
      "Epoch 8/50\n",
      "216/216 [==============================] - 38s 174ms/step - loss: -0.4291 - dice_coef: 0.4289 - binary_accuracy: 0.9790 - val_loss: -0.3915 - val_dice_coef: 0.3915 - val_binary_accuracy: 0.9703\n",
      "\n",
      "Epoch 00008: val_binary_accuracy did not improve from 0.98066\n",
      "Epoch 9/50\n",
      "216/216 [==============================] - 38s 174ms/step - loss: -0.4429 - dice_coef: 0.4429 - binary_accuracy: 0.9794 - val_loss: -0.4492 - val_dice_coef: 0.4491 - val_binary_accuracy: 0.9790\n",
      "\n",
      "Epoch 00009: val_binary_accuracy did not improve from 0.98066\n",
      "Epoch 10/50\n",
      "216/216 [==============================] - 38s 174ms/step - loss: -0.4561 - dice_coef: 0.4562 - binary_accuracy: 0.9797 - val_loss: -0.4289 - val_dice_coef: 0.4289 - val_binary_accuracy: 0.9743\n",
      "\n",
      "Epoch 00010: val_binary_accuracy did not improve from 0.98066\n",
      "Epoch 11/50\n",
      "216/216 [==============================] - 38s 174ms/step - loss: -0.4599 - dice_coef: 0.4603 - binary_accuracy: 0.9799 - val_loss: -0.4697 - val_dice_coef: 0.4697 - val_binary_accuracy: 0.9816\n",
      "\n",
      "Epoch 00011: val_binary_accuracy improved from 0.98066 to 0.98157, saving model to trained_model_weights\\unet.hdf5\n",
      "Epoch 12/50\n",
      "216/216 [==============================] - 38s 174ms/step - loss: -0.4678 - dice_coef: 0.4680 - binary_accuracy: 0.9802 - val_loss: -0.4483 - val_dice_coef: 0.4483 - val_binary_accuracy: 0.9760\n",
      "\n",
      "Epoch 00012: val_binary_accuracy did not improve from 0.98157\n",
      "Epoch 13/50\n",
      "216/216 [==============================] - 38s 174ms/step - loss: -0.4802 - dice_coef: 0.4800 - binary_accuracy: 0.9806 - val_loss: -0.4660 - val_dice_coef: 0.4660 - val_binary_accuracy: 0.9775\n",
      "\n",
      "Epoch 00013: val_binary_accuracy did not improve from 0.98157\n",
      "Epoch 14/50\n",
      "216/216 [==============================] - 38s 175ms/step - loss: -0.4838 - dice_coef: 0.4839 - binary_accuracy: 0.9806 - val_loss: -0.4672 - val_dice_coef: 0.4672 - val_binary_accuracy: 0.9827\n",
      "\n",
      "Epoch 00014: val_binary_accuracy improved from 0.98157 to 0.98272, saving model to trained_model_weights\\unet.hdf5\n",
      "Epoch 15/50\n",
      "216/216 [==============================] - 38s 174ms/step - loss: -0.4908 - dice_coef: 0.4903 - binary_accuracy: 0.9810 - val_loss: -0.4583 - val_dice_coef: 0.4583 - val_binary_accuracy: 0.9761\n",
      "\n",
      "Epoch 00015: val_binary_accuracy did not improve from 0.98272\n",
      "Epoch 16/50\n",
      "216/216 [==============================] - 38s 174ms/step - loss: -0.4997 - dice_coef: 0.5000 - binary_accuracy: 0.9811 - val_loss: -0.5063 - val_dice_coef: 0.5063 - val_binary_accuracy: 0.9815\n",
      "\n",
      "Epoch 00016: val_binary_accuracy did not improve from 0.98272\n",
      "Epoch 17/50\n",
      "216/216 [==============================] - 38s 175ms/step - loss: -0.5020 - dice_coef: 0.5020 - binary_accuracy: 0.9812 - val_loss: -0.4789 - val_dice_coef: 0.4789 - val_binary_accuracy: 0.9830\n",
      "\n",
      "Epoch 00017: val_binary_accuracy improved from 0.98272 to 0.98303, saving model to trained_model_weights\\unet.hdf5\n",
      "Epoch 18/50\n",
      "216/216 [==============================] - 38s 174ms/step - loss: -0.5079 - dice_coef: 0.5077 - binary_accuracy: 0.9812 - val_loss: -0.5117 - val_dice_coef: 0.5117 - val_binary_accuracy: 0.9828\n",
      "\n",
      "Epoch 00018: val_binary_accuracy did not improve from 0.98303\n",
      "Epoch 19/50\n",
      "216/216 [==============================] - 38s 174ms/step - loss: -0.5106 - dice_coef: 0.5108 - binary_accuracy: 0.9813 - val_loss: -0.5113 - val_dice_coef: 0.5113 - val_binary_accuracy: 0.9828\n",
      "\n",
      "Epoch 00019: val_binary_accuracy did not improve from 0.98303\n",
      "Epoch 20/50\n",
      "216/216 [==============================] - 38s 174ms/step - loss: -0.5194 - dice_coef: 0.5192 - binary_accuracy: 0.9816 - val_loss: -0.5225 - val_dice_coef: 0.5224 - val_binary_accuracy: 0.9809\n",
      "\n",
      "Epoch 00020: val_binary_accuracy did not improve from 0.98303\n",
      "Epoch 21/50\n",
      "216/216 [==============================] - 38s 174ms/step - loss: -0.5227 - dice_coef: 0.5230 - binary_accuracy: 0.9816 - val_loss: -0.5226 - val_dice_coef: 0.5225 - val_binary_accuracy: 0.9831\n",
      "\n",
      "Epoch 00021: val_binary_accuracy improved from 0.98303 to 0.98312, saving model to trained_model_weights\\unet.hdf5\n",
      "Epoch 22/50\n",
      "216/216 [==============================] - 38s 174ms/step - loss: -0.5220 - dice_coef: 0.5218 - binary_accuracy: 0.9814 - val_loss: -0.5332 - val_dice_coef: 0.5331 - val_binary_accuracy: 0.9817\n",
      "\n",
      "Epoch 00022: val_binary_accuracy did not improve from 0.98312\n",
      "Epoch 23/50\n",
      "216/216 [==============================] - 38s 174ms/step - loss: -0.5321 - dice_coef: 0.5322 - binary_accuracy: 0.9815 - val_loss: -0.5354 - val_dice_coef: 0.5354 - val_binary_accuracy: 0.9828\n",
      "\n",
      "Epoch 00023: val_binary_accuracy did not improve from 0.98312\n",
      "Epoch 24/50\n",
      "216/216 [==============================] - 38s 174ms/step - loss: -0.5440 - dice_coef: 0.5440 - binary_accuracy: 0.9818 - val_loss: -0.5502 - val_dice_coef: 0.5501 - val_binary_accuracy: 0.9813\n",
      "\n",
      "Epoch 00024: val_binary_accuracy did not improve from 0.98312\n",
      "Epoch 25/50\n",
      "216/216 [==============================] - 38s 174ms/step - loss: -0.5476 - dice_coef: 0.5480 - binary_accuracy: 0.9817 - val_loss: -0.5560 - val_dice_coef: 0.5559 - val_binary_accuracy: 0.9815\n",
      "\n",
      "Epoch 00025: val_binary_accuracy did not improve from 0.98312\n",
      "Epoch 26/50\n",
      "216/216 [==============================] - 38s 174ms/step - loss: -0.5602 - dice_coef: 0.5604 - binary_accuracy: 0.9821 - val_loss: -0.5644 - val_dice_coef: 0.5643 - val_binary_accuracy: 0.9818\n",
      "\n",
      "Epoch 00026: val_binary_accuracy did not improve from 0.98312\n",
      "Epoch 27/50\n",
      "216/216 [==============================] - 38s 174ms/step - loss: -0.5672 - dice_coef: 0.5675 - binary_accuracy: 0.9822 - val_loss: -0.5787 - val_dice_coef: 0.5786 - val_binary_accuracy: 0.9822\n",
      "\n",
      "Epoch 00027: val_binary_accuracy did not improve from 0.98312\n",
      "Epoch 28/50\n",
      "216/216 [==============================] - 38s 174ms/step - loss: -0.5801 - dice_coef: 0.5798 - binary_accuracy: 0.9826 - val_loss: -0.5762 - val_dice_coef: 0.5760 - val_binary_accuracy: 0.9832\n",
      "\n",
      "Epoch 00028: val_binary_accuracy improved from 0.98312 to 0.98316, saving model to trained_model_weights\\unet.hdf5\n",
      "Epoch 29/50\n",
      "216/216 [==============================] - 38s 174ms/step - loss: -0.5848 - dice_coef: 0.5847 - binary_accuracy: 0.9825 - val_loss: -0.5824 - val_dice_coef: 0.5823 - val_binary_accuracy: 0.9827\n",
      "\n",
      "Epoch 00029: val_binary_accuracy did not improve from 0.98316\n",
      "Epoch 30/50\n",
      "216/216 [==============================] - 38s 174ms/step - loss: -0.5930 - dice_coef: 0.5929 - binary_accuracy: 0.9828 - val_loss: -0.5886 - val_dice_coef: 0.5885 - val_binary_accuracy: 0.9817\n",
      "\n",
      "Epoch 00030: val_binary_accuracy did not improve from 0.98316\n",
      "Epoch 31/50\n",
      "216/216 [==============================] - 38s 174ms/step - loss: -0.6023 - dice_coef: 0.6017 - binary_accuracy: 0.9831 - val_loss: -0.5861 - val_dice_coef: 0.5860 - val_binary_accuracy: 0.9824\n",
      "\n",
      "Epoch 00031: val_binary_accuracy did not improve from 0.98316\n",
      "Epoch 32/50\n",
      "216/216 [==============================] - 38s 174ms/step - loss: -0.6077 - dice_coef: 0.6081 - binary_accuracy: 0.9832 - val_loss: -0.5699 - val_dice_coef: 0.5697 - val_binary_accuracy: 0.9808\n",
      "\n",
      "Epoch 00032: val_binary_accuracy did not improve from 0.98316\n",
      "Epoch 33/50\n",
      "216/216 [==============================] - 38s 174ms/step - loss: -0.6108 - dice_coef: 0.6105 - binary_accuracy: 0.9831 - val_loss: -0.6033 - val_dice_coef: 0.6032 - val_binary_accuracy: 0.9819\n",
      "\n",
      "Epoch 00033: val_binary_accuracy did not improve from 0.98316\n",
      "Epoch 34/50\n",
      "216/216 [==============================] - 38s 176ms/step - loss: -0.6189 - dice_coef: 0.6190 - binary_accuracy: 0.9834 - val_loss: -0.6201 - val_dice_coef: 0.6200 - val_binary_accuracy: 0.9839\n",
      "\n",
      "Epoch 00034: val_binary_accuracy improved from 0.98316 to 0.98393, saving model to trained_model_weights\\unet.hdf5\n",
      "Epoch 35/50\n",
      "216/216 [==============================] - 37s 172ms/step - loss: -0.6310 - dice_coef: 0.6311 - binary_accuracy: 0.9838 - val_loss: -0.6189 - val_dice_coef: 0.6187 - val_binary_accuracy: 0.9834\n",
      "\n",
      "Epoch 00035: val_binary_accuracy did not improve from 0.98393\n",
      "Epoch 36/50\n",
      "216/216 [==============================] - 37s 172ms/step - loss: -0.6303 - dice_coef: 0.6305 - binary_accuracy: 0.9837 - val_loss: -0.5914 - val_dice_coef: 0.5912 - val_binary_accuracy: 0.9847\n",
      "\n",
      "Epoch 00036: val_binary_accuracy improved from 0.98393 to 0.98474, saving model to trained_model_weights\\unet.hdf5\n",
      "Epoch 37/50\n",
      "216/216 [==============================] - 37s 172ms/step - loss: -0.6420 - dice_coef: 0.6421 - binary_accuracy: 0.9841 - val_loss: -0.6019 - val_dice_coef: 0.6018 - val_binary_accuracy: 0.9812\n",
      "\n",
      "Epoch 00037: val_binary_accuracy did not improve from 0.98474\n",
      "Epoch 38/50\n",
      "216/216 [==============================] - 37s 172ms/step - loss: -0.6441 - dice_coef: 0.6439 - binary_accuracy: 0.9842 - val_loss: -0.6308 - val_dice_coef: 0.6306 - val_binary_accuracy: 0.9838\n",
      "\n",
      "Epoch 00038: val_binary_accuracy did not improve from 0.98474\n",
      "Epoch 39/50\n",
      "216/216 [==============================] - 37s 173ms/step - loss: -0.6508 - dice_coef: 0.6512 - binary_accuracy: 0.9843 - val_loss: -0.6389 - val_dice_coef: 0.6388 - val_binary_accuracy: 0.9846\n",
      "\n",
      "Epoch 00039: val_binary_accuracy did not improve from 0.98474\n",
      "Epoch 40/50\n",
      "216/216 [==============================] - 37s 172ms/step - loss: -0.6573 - dice_coef: 0.6574 - binary_accuracy: 0.9845 - val_loss: -0.6291 - val_dice_coef: 0.6290 - val_binary_accuracy: 0.9848\n",
      "\n",
      "Epoch 00040: val_binary_accuracy improved from 0.98474 to 0.98481, saving model to trained_model_weights\\unet.hdf5\n",
      "Epoch 41/50\n",
      "216/216 [==============================] - 37s 172ms/step - loss: -0.6672 - dice_coef: 0.6673 - binary_accuracy: 0.9848 - val_loss: -0.5960 - val_dice_coef: 0.5959 - val_binary_accuracy: 0.9850\n",
      "\n",
      "Epoch 00041: val_binary_accuracy improved from 0.98481 to 0.98499, saving model to trained_model_weights\\unet.hdf5\n",
      "Epoch 42/50\n",
      "216/216 [==============================] - 37s 173ms/step - loss: -0.6721 - dice_coef: 0.6722 - binary_accuracy: 0.9850 - val_loss: -0.6172 - val_dice_coef: 0.6172 - val_binary_accuracy: 0.9809\n",
      "\n",
      "Epoch 00042: val_binary_accuracy did not improve from 0.98499\n",
      "Epoch 43/50\n",
      "216/216 [==============================] - 37s 173ms/step - loss: -0.6764 - dice_coef: 0.6765 - binary_accuracy: 0.9851 - val_loss: -0.6487 - val_dice_coef: 0.6486 - val_binary_accuracy: 0.9846\n",
      "\n",
      "Epoch 00043: val_binary_accuracy did not improve from 0.98499\n",
      "Epoch 44/50\n",
      "216/216 [==============================] - 37s 173ms/step - loss: -0.6799 - dice_coef: 0.6795 - binary_accuracy: 0.9852 - val_loss: -0.6537 - val_dice_coef: 0.6536 - val_binary_accuracy: 0.9843\n",
      "\n",
      "Epoch 00044: val_binary_accuracy did not improve from 0.98499\n",
      "Epoch 45/50\n",
      "216/216 [==============================] - 37s 173ms/step - loss: -0.6863 - dice_coef: 0.6860 - binary_accuracy: 0.9853 - val_loss: -0.6627 - val_dice_coef: 0.6626 - val_binary_accuracy: 0.9847\n",
      "\n",
      "Epoch 00045: val_binary_accuracy did not improve from 0.98499\n",
      "Epoch 46/50\n",
      "216/216 [==============================] - 37s 173ms/step - loss: -0.6933 - dice_coef: 0.6933 - binary_accuracy: 0.9855 - val_loss: -0.6475 - val_dice_coef: 0.6475 - val_binary_accuracy: 0.9832\n",
      "\n",
      "Epoch 00046: val_binary_accuracy did not improve from 0.98499\n",
      "Epoch 47/50\n",
      "216/216 [==============================] - 37s 173ms/step - loss: -0.6931 - dice_coef: 0.6930 - binary_accuracy: 0.9855 - val_loss: -0.6565 - val_dice_coef: 0.6564 - val_binary_accuracy: 0.9838\n",
      "\n",
      "Epoch 00047: val_binary_accuracy did not improve from 0.98499\n",
      "Epoch 48/50\n",
      "216/216 [==============================] - 37s 173ms/step - loss: -0.7039 - dice_coef: 0.7041 - binary_accuracy: 0.9858 - val_loss: -0.6392 - val_dice_coef: 0.6391 - val_binary_accuracy: 0.9851\n",
      "\n",
      "Epoch 00048: val_binary_accuracy improved from 0.98499 to 0.98513, saving model to trained_model_weights\\unet.hdf5\n",
      "Epoch 49/50\n",
      "216/216 [==============================] - 37s 173ms/step - loss: -0.7064 - dice_coef: 0.7064 - binary_accuracy: 0.9859 - val_loss: -0.6719 - val_dice_coef: 0.6717 - val_binary_accuracy: 0.9854\n",
      "\n",
      "Epoch 00049: val_binary_accuracy improved from 0.98513 to 0.98541, saving model to trained_model_weights\\unet.hdf5\n",
      "Epoch 50/50\n",
      "216/216 [==============================] - 37s 173ms/step - loss: -0.7129 - dice_coef: 0.7130 - binary_accuracy: 0.9861 - val_loss: -0.6610 - val_dice_coef: 0.6608 - val_binary_accuracy: 0.9857\n",
      "\n",
      "Epoch 00050: val_binary_accuracy improved from 0.98541 to 0.98567, saving model to trained_model_weights\\unet.hdf5\n"
     ]
    }
   ],
   "source": [
    "unet_history = model_Unet.fit(x=X_train,y=y_train, epochs=50, verbose=1,\n",
    "                        validation_data=(X_val, y_val), callbacks=save_model(unet_path))"
   ],
   "metadata": {
    "collapsed": false
   }
  },
  {
   "cell_type": "code",
   "execution_count": 16,
   "outputs": [
    {
     "data": {
      "text/plain": "Text(0.5, 1.0, 'Unet for segmentation')"
     },
     "execution_count": 16,
     "metadata": {},
     "output_type": "execute_result"
    },
    {
     "data": {
      "text/plain": "<Figure size 1920x1080 with 1 Axes>",
      "image/png": "[encoded data removed]"
     },
     "metadata": {},
     "output_type": "display_data"
    }
   ],
   "source": [
    "model_Unet_result = pd.DataFrame({\"Accuracy\": unet_history.history[\"val_binary_accuracy\"],\n",
    "                                  \"Loss\": unet_history.history[\"val_dice_coef\"]}, index=epoch_index)\n",
    "model_Unet_result.to_csv(\"Unet_result.csv\")\n",
    "ax_unet = model_Unet_result.plot.line(figsize=(16, 9))\n",
    "ax_unet.set_xlabel(\"Epoch\")\n",
    "ax_unet.set_ylabel(\"Score\")\n",
    "ax_unet.set_title(\"Unet for segmentation\")"
   ],
   "metadata": {
    "collapsed": false
   }
  },
  {
   "cell_type": "code",
   "execution_count": 13,
   "outputs": [
    {
     "name": "stdout",
     "output_type": "stream",
     "text": [
      "96/96 [==============================] - 8s 79ms/step - loss: -0.6552 - dice_coef: 0.6552 - binary_accuracy: 0.9851\n"
     ]
    },
    {
     "data": {
      "text/plain": "[-0.6551928520202637, 0.6551888585090637, 0.9851043224334717]"
     },
     "execution_count": 13,
     "metadata": {},
     "output_type": "execute_result"
    }
   ],
   "source": [
    "model_Unet.load_weights(os.path.join(\"trained_model_weights\", unet_path))\n",
    "model_Unet.evaluate(x=X_test, y=y_test)"
   ],
   "metadata": {
    "collapsed": false
   }
  },
  {
   "cell_type": "code",
   "execution_count": null,
   "outputs": [],
   "source": [],
   "metadata": {
    "collapsed": false
   }
  },
  {
   "cell_type": "markdown",
   "source": [],
   "metadata": {
    "collapsed": false
   }
  }
 ],
 "metadata": {
  "kernelspec": {
   "display_name": "Python 3",
   "language": "python",
   "name": "python3"
  },
  "language_info": {
   "codemirror_mode": {
    "name": "ipython",
    "version": 2
   },
   "file_extension": ".py",
   "mimetype": "text/x-python",
   "name": "python",
   "nbconvert_exporter": "python",
   "pygments_lexer": "ipython2",
   "version": "2.7.6"
  }
 },
 "nbformat": 4,
 "nbformat_minor": 0
}
